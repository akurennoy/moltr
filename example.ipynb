{
 "cells": [
  {
   "cell_type": "markdown",
   "metadata": {},
   "source": [
    "This notebook presents an example of using the moltr package for multi-objective learning to rank. It consists of two sections. \n",
    "\n",
    "In the first section, we compare our custom objective implementation with the original one from LightGBM. Specifically, we check that it produces similar results and has a similar runtime.\n",
    "\n",
    "In the second section, we use the custom objective to build a LambdaMART model optimising a combination of two NDCG-type metrics."
   ]
  },
  {
   "cell_type": "code",
   "execution_count": 1,
   "metadata": {},
   "outputs": [],
   "source": [
    "import warnings\n",
    "\n",
    "\n",
    "warnings.simplefilter(\"ignore\")"
   ]
  },
  {
   "cell_type": "code",
   "execution_count": 2,
   "metadata": {},
   "outputs": [],
   "source": [
    "import numpy as np\n",
    "import pandas as pd\n",
    "\n",
    "import lightgbm as lgb\n",
    "\n",
    "from matplotlib import pyplot as plt"
   ]
  },
  {
   "cell_type": "code",
   "execution_count": 3,
   "metadata": {},
   "outputs": [],
   "source": [
    "from moltr.lambdaobj import get_gradients\n",
    "from moltr.calculator import Calculator, MIN_SIGMOID_ARG, MAX_SIGMOID_ARG"
   ]
  },
  {
   "cell_type": "markdown",
   "metadata": {},
   "source": [
    "### Generating Data"
   ]
  },
  {
   "cell_type": "code",
   "execution_count": 4,
   "metadata": {},
   "outputs": [],
   "source": [
    "np.random.seed(0)"
   ]
  },
  {
   "cell_type": "code",
   "execution_count": 5,
   "metadata": {},
   "outputs": [],
   "source": [
    "def generate_data(n_positions, coef, n_requests):\n",
    "    \"\"\"\n",
    "    This function is used for simulating the data. We generate n_requests result pages\n",
    "    with n_positions positions each. We simulate interactions of two types. A logistic \n",
    "    regression model is used for generating interactions of each type. The coefficients\n",
    "    are provided via the coef parameter. This parameter must be a matrix with\n",
    "    two rows. The number of features is inferred from the number of its columns.\n",
    "    Features are simulated as standard normal random variables.\n",
    "    :param page_len: the number of positions on each result page\n",
    "    :param coef: a matrix defining the two logistic regression models for generating\n",
    "                 interactions\n",
    "    :param n_requests: the number of requests/queries/result pages\n",
    "    :returns: a pandas.DataFrame having n_requests * n_positions rows \n",
    "              and the following columns:\n",
    "                request_id,\n",
    "                feature_1, ..., feature_m (where m is coef.shape[1]),\n",
    "                i_1 and i2 (interaction indicators - one for each interaction type)\n",
    "    \"\"\"\n",
    "    n_features = coef.shape[1]\n",
    "    feature_names = [\"feature_%i\" % i for i in range(1, n_features + 1)]\n",
    "    data = pd.DataFrame(\n",
    "        np.concatenate(\n",
    "            [\n",
    "                np.repeat(range(n_requests), n_positions)[:, None],\n",
    "                np.random.normal(0, 1, (n_requests * n_positions, n_features))\n",
    "            ],\n",
    "            axis=1\n",
    "        ),\n",
    "        columns=[\"request_id\"] + feature_names\n",
    "    )\n",
    "    for i in range(2):\n",
    "        z = np.dot(data[feature_names].values, coef[i, :]) - 4.0\n",
    "        data[f\"i_{i + 1}\"] = np.random.binomial(1, 1 / (1 + np.exp(-z)))\n",
    "    \n",
    "    return data\n",
    "\n",
    "\n",
    "def drop_requests_with_no_interactions(data, interaction_col):\n",
    "    interaction_requests = set(data.loc[data[interaction_col] > 0].request_id)\n",
    "    return data.loc[data.request_id.isin(interaction_requests)]"
   ]
  },
  {
   "cell_type": "code",
   "execution_count": 6,
   "metadata": {},
   "outputs": [],
   "source": [
    "COEF = np.array(\n",
    "    [\n",
    "        [1.0, -1.0, 1.0],\n",
    "        [-1.0, 1.0, 1.0]\n",
    "    ]\n",
    ")\n",
    "N_POSITIONS = 32\n",
    "MAX_NDCG_POS = 10\n",
    "N_TRAIN = 10000\n",
    "N_VALIDATION = 1000"
   ]
  },
  {
   "cell_type": "code",
   "execution_count": 7,
   "metadata": {},
   "outputs": [],
   "source": [
    "train_data = generate_data(N_POSITIONS, COEF, N_TRAIN)\n",
    "validation_data = generate_data(N_POSITIONS, COEF, N_VALIDATION)"
   ]
  },
  {
   "cell_type": "markdown",
   "metadata": {},
   "source": [
    "### Custom Objective Code"
   ]
  },
  {
   "cell_type": "code",
   "execution_count": 8,
   "metadata": {},
   "outputs": [],
   "source": [
    "class DatasetWithCalculator(lgb.Dataset):\n",
    "    def __init__(self, *args, **kwargs):\n",
    "        lgb.Dataset.__init__(self, *args, **kwargs)\n",
    "        self.calculator = Calculator(self.label, self.get_group(), MAX_NDCG_POS)"
   ]
  },
  {
   "cell_type": "code",
   "execution_count": 9,
   "metadata": {},
   "outputs": [],
   "source": [
    "def lambdamart_objective(preds, dataset):\n",
    "    groups = dataset.get_group()\n",
    "    if len(groups) == 0:\n",
    "        raise Error(\"Group/query data should not be empty.\")\n",
    "    else:\n",
    "        grad = np.zeros(len(preds))\n",
    "        hess = np.zeros(len(preds))\n",
    "        get_gradients(np.ascontiguousarray(dataset.label, dtype=np.double), \n",
    "                      np.ascontiguousarray(preds),\n",
    "                      len(preds),\n",
    "                      np.ascontiguousarray(groups),\n",
    "                      np.ascontiguousarray(dataset.calculator.query_boundaries),\n",
    "                      len(dataset.calculator.query_boundaries) - 1,\n",
    "                      np.ascontiguousarray(dataset.calculator.discounts),\n",
    "                      np.ascontiguousarray(dataset.calculator.inverse_max_dcgs),\n",
    "                      np.ascontiguousarray(dataset.calculator.sigmoids),\n",
    "                      len(dataset.calculator.sigmoids),\n",
    "                      MIN_SIGMOID_ARG,\n",
    "                      MAX_SIGMOID_ARG,\n",
    "                      dataset.calculator.sigmoid_idx_factor,\n",
    "                      np.ascontiguousarray(grad), \n",
    "                      np.ascontiguousarray(hess))\n",
    "        return grad, hess"
   ]
  },
  {
   "cell_type": "markdown",
   "metadata": {},
   "source": [
    "## Section 1. Training with a Custom Objective"
   ]
  },
  {
   "cell_type": "code",
   "execution_count": 10,
   "metadata": {},
   "outputs": [
    {
     "name": "stdout",
     "output_type": "stream",
     "text": [
      "Computing inverse_max_dcg-s..\n",
      "Computing sigmoids..\n"
     ]
    }
   ],
   "source": [
    "train_data_1 = drop_requests_with_no_interactions(train_data, \"i_1\")\n",
    "train_dataset_1 = DatasetWithCalculator(\n",
    "    train_data_1.drop([\"request_id\", \"i_1\", \"i_2\"], axis=1),\n",
    "    label=train_data_1.i_1,\n",
    "    group=[N_POSITIONS] * train_data_1.request_id.nunique(),\n",
    "    free_raw_data=False\n",
    ")"
   ]
  },
  {
   "cell_type": "code",
   "execution_count": 11,
   "metadata": {},
   "outputs": [],
   "source": [
    "lgb_params = {\n",
    "    \"num_trees\": 10,\n",
    "    \"objective\": \"lambdarank\",\n",
    "    \"max_position\": MAX_NDCG_POS, \n",
    "    \"metric\": \"ndcg\",\n",
    "    \"eval_at\": MAX_NDCG_POS\n",
    "}"
   ]
  },
  {
   "cell_type": "code",
   "execution_count": 12,
   "metadata": {},
   "outputs": [
    {
     "name": "stdout",
     "output_type": "stream",
     "text": [
      "[1]\ttraining's ndcg@10: 0.570918\n",
      "[2]\ttraining's ndcg@10: 0.600124\n",
      "[3]\ttraining's ndcg@10: 0.609498\n",
      "[4]\ttraining's ndcg@10: 0.615429\n",
      "[5]\ttraining's ndcg@10: 0.617372\n",
      "[6]\ttraining's ndcg@10: 0.620546\n",
      "[7]\ttraining's ndcg@10: 0.622058\n",
      "[8]\ttraining's ndcg@10: 0.623873\n",
      "[9]\ttraining's ndcg@10: 0.625059\n",
      "[10]\ttraining's ndcg@10: 0.626115\n"
     ]
    }
   ],
   "source": [
    "def fit_original(dataset, verbose_eval=True):\n",
    "    lgb.train(\n",
    "        params=lgb_params, \n",
    "        train_set=dataset,\n",
    "        valid_sets=[dataset],\n",
    "        verbose_eval=verbose_eval\n",
    "    )    \n",
    "\n",
    "\n",
    "fit_original(train_dataset_1)"
   ]
  },
  {
   "cell_type": "code",
   "execution_count": 13,
   "metadata": {},
   "outputs": [
    {
     "name": "stdout",
     "output_type": "stream",
     "text": [
      "254 ms ± 95.1 ms per loop (mean ± std. dev. of 100 runs, 1 loop each)\n"
     ]
    }
   ],
   "source": [
    "%timeit -r 100 fit_original(train_dataset_1, False)"
   ]
  },
  {
   "cell_type": "code",
   "execution_count": 14,
   "metadata": {},
   "outputs": [
    {
     "name": "stdout",
     "output_type": "stream",
     "text": [
      "[1]\ttraining's ndcg@10: 0.572179\n",
      "[2]\ttraining's ndcg@10: 0.592128\n",
      "[3]\ttraining's ndcg@10: 0.607626\n",
      "[4]\ttraining's ndcg@10: 0.614413\n",
      "[5]\ttraining's ndcg@10: 0.618229\n",
      "[6]\ttraining's ndcg@10: 0.621594\n",
      "[7]\ttraining's ndcg@10: 0.622935\n",
      "[8]\ttraining's ndcg@10: 0.625146\n",
      "[9]\ttraining's ndcg@10: 0.627006\n",
      "[10]\ttraining's ndcg@10: 0.628138\n"
     ]
    }
   ],
   "source": [
    "def fit_custom_objective(dataset, verbose_eval=True):\n",
    "    lgb.train(\n",
    "        params=lgb_params, \n",
    "        train_set=dataset,\n",
    "        valid_sets=[dataset],\n",
    "        verbose_eval=verbose_eval,\n",
    "        fobj=lambdamart_objective\n",
    "    )\n",
    "    \n",
    "    \n",
    "fit_custom_objective(train_dataset_1)"
   ]
  },
  {
   "cell_type": "code",
   "execution_count": 15,
   "metadata": {},
   "outputs": [
    {
     "name": "stdout",
     "output_type": "stream",
     "text": [
      "328 ms ± 73.7 ms per loop (mean ± std. dev. of 100 runs, 1 loop each)\n"
     ]
    }
   ],
   "source": [
    "%timeit -r 100 fit_custom_objective(train_dataset_1, False)"
   ]
  },
  {
   "cell_type": "markdown",
   "metadata": {},
   "source": [
    "## Section 2. Optimising a Combination of Metrics"
   ]
  },
  {
   "cell_type": "markdown",
   "metadata": {},
   "source": [
    "We will use two NDCG metrics - one for each interaction type."
   ]
  },
  {
   "cell_type": "code",
   "execution_count": 16,
   "metadata": {},
   "outputs": [],
   "source": [
    "class DatasetWithTwoLabels(lgb.Dataset):\n",
    "    def __init__(self, label_2, alpha, *args, **kwargs):\n",
    "        lgb.Dataset.__init__(self, *args, **kwargs)\n",
    "        assert(len(self.label) == len(label_2))\n",
    "        self.label_1 = self.label\n",
    "        self.label_2 = label_2\n",
    "        self.calculator_1 = Calculator(self.label_1, self.get_group(), MAX_NDCG_POS)\n",
    "        self.calculator_2 = Calculator(self.label_2, self.get_group(), MAX_NDCG_POS)\n",
    "        self.alpha = alpha\n",
    "        \n",
    "    \n",
    "    def set_alpha(self, alpha):\n",
    "        self.alpha = alpha"
   ]
  },
  {
   "cell_type": "code",
   "execution_count": 17,
   "metadata": {},
   "outputs": [],
   "source": [
    "def get_grad_hess(labels, preds, groups, calculator):\n",
    "    grad = np.zeros(len(preds))\n",
    "    hess = np.zeros(len(preds))\n",
    "    get_gradients(np.ascontiguousarray(labels, dtype=np.double), \n",
    "                  np.ascontiguousarray(preds),\n",
    "                  len(preds),\n",
    "                  np.ascontiguousarray(groups),\n",
    "                  np.ascontiguousarray(calculator.query_boundaries),\n",
    "                  len(calculator.query_boundaries) - 1,\n",
    "                  np.ascontiguousarray(calculator.discounts),\n",
    "                  np.ascontiguousarray(calculator.inverse_max_dcgs),\n",
    "                  np.ascontiguousarray(calculator.sigmoids),\n",
    "                  len(calculator.sigmoids),\n",
    "                  MIN_SIGMOID_ARG,\n",
    "                  MAX_SIGMOID_ARG,\n",
    "                  calculator.sigmoid_idx_factor,\n",
    "                  np.ascontiguousarray(grad), \n",
    "                  np.ascontiguousarray(hess))\n",
    "    return grad, hess\n",
    "\n",
    "        \n",
    "def combined_objective(preds, dataset):\n",
    "    groups = dataset.get_group()\n",
    "    if len(groups) == 0:\n",
    "        raise Error(\"Group/query data should not be empty.\")\n",
    "    else:\n",
    "        grad_1, hess_1 = get_grad_hess(\n",
    "            dataset.label_1, preds, groups, dataset.calculator_1\n",
    "        )\n",
    "        grad_2, hess_2 = get_grad_hess(\n",
    "            dataset.label_2, preds, groups, dataset.calculator_2\n",
    "        )\n",
    "        alpha = dataset.alpha\n",
    "        return alpha * grad_1 + (1 - alpha) * grad_2, alpha * hess_1 + (1 - alpha) * hess_2"
   ]
  },
  {
   "cell_type": "code",
   "execution_count": 18,
   "metadata": {},
   "outputs": [],
   "source": [
    "def fit_combined_objective(dataset, alpha):\n",
    "    dataset.set_alpha(alpha)\n",
    "    return lgb.train(\n",
    "        params=lgb_params, \n",
    "        train_set=dataset,\n",
    "        fobj=combined_objective\n",
    "    )"
   ]
  },
  {
   "cell_type": "code",
   "execution_count": 19,
   "metadata": {},
   "outputs": [],
   "source": [
    "train_data_12 = drop_requests_with_no_interactions(\n",
    "    drop_requests_with_no_interactions(train_data, \"i_1\"),\n",
    "    \"i_2\"\n",
    ")\n",
    "validation_data_12 = drop_requests_with_no_interactions(\n",
    "    drop_requests_with_no_interactions(validation_data, \"i_1\"),\n",
    "    \"i_2\"\n",
    ")"
   ]
  },
  {
   "cell_type": "code",
   "execution_count": 20,
   "metadata": {},
   "outputs": [
    {
     "name": "stdout",
     "output_type": "stream",
     "text": [
      "Computing inverse_max_dcg-s..\n",
      "Computing sigmoids..\n",
      "Computing inverse_max_dcg-s..\n",
      "Computing sigmoids..\n",
      "Computing inverse_max_dcg-s..\n",
      "Computing sigmoids..\n",
      "Computing inverse_max_dcg-s..\n",
      "Computing sigmoids..\n"
     ]
    }
   ],
   "source": [
    "train_dataset = DatasetWithTwoLabels(\n",
    "    data=train_data_12.drop([\"request_id\", \"i_1\", \"i_2\"], axis=1),\n",
    "    label=train_data_12.i_1,\n",
    "    label_2=train_data_12.i_2,\n",
    "    alpha=1.0,\n",
    "    group=[N_POSITIONS] * train_data_12.request_id.nunique(),\n",
    "    free_raw_data=False\n",
    ")\n",
    "validation_dataset = DatasetWithTwoLabels(\n",
    "    data=validation_data_12.drop([\"request_id\", \"i_1\", \"i_2\"], axis=1),\n",
    "    label=validation_data_12.i_1,\n",
    "    label_2=validation_data_12.i_2,\n",
    "    alpha=1.0,\n",
    "    group=[N_POSITIONS] * validation_data_12.request_id.nunique(),\n",
    "    free_raw_data=False\n",
    ")"
   ]
  },
  {
   "cell_type": "markdown",
   "metadata": {},
   "source": [
    "Now we fit the combination of the two NDCG metrics for different values of alpha. "
   ]
  },
  {
   "cell_type": "code",
   "execution_count": 21,
   "metadata": {},
   "outputs": [],
   "source": [
    "lgb_params = {\n",
    "    \"num_trees\": 100,\n",
    "    \"objective\": \"lambdarank\",\n",
    "    \"max_position\": MAX_NDCG_POS, \n",
    "    \"metric\": \"ndcg\",\n",
    "    \"eval_at\": MAX_NDCG_POS\n",
    "}"
   ]
  },
  {
   "cell_type": "code",
   "execution_count": 22,
   "metadata": {},
   "outputs": [],
   "source": [
    "alpha_values = np.arange(0.0, 1.1, 0.1)\n",
    "ndcg_arr_1 = []\n",
    "ndcg_arr_2 = []\n",
    "\n",
    "for alpha in alpha_values:\n",
    "    m = fit_combined_objective(train_dataset, alpha)\n",
    "    ndcg_arr_1.append(\n",
    "        validation_dataset.calculator_1.compute_ndcg(m.predict(validation_dataset.data))\n",
    "    )\n",
    "    ndcg_arr_2.append(\n",
    "        validation_dataset.calculator_2.compute_ndcg(m.predict(validation_dataset.data))\n",
    "    )    "
   ]
  },
  {
   "cell_type": "code",
   "execution_count": 23,
   "metadata": {},
   "outputs": [],
   "source": [
    "def plot_point(x, y, text, marker, offset_x=0, offset_y=0):\n",
    "    handles = ax.scatter(x, y, marker=marker, color=\"k\")\n",
    "    if text is not None:\n",
    "        ax.annotate(\n",
    "            text, \n",
    "            (x, y), \n",
    "            (x + offset_x, y + offset_y)\n",
    "        )\n",
    "    return handles"
   ]
  },
  {
   "cell_type": "code",
   "execution_count": 24,
   "metadata": {},
   "outputs": [
    {
     "data": {
      "image/png": "[encoded data removed]",
      "text/plain": [
       "<matplotlib.figure.Figure at 0x108f65198>"
      ]
     },
     "metadata": {},
     "output_type": "display_data"
    }
   ],
   "source": [
    "fig, ax = plt.subplots(figsize=(10, 5))\n",
    "ax.set_xlim([0.0, 0.8])\n",
    "ax.set_ylim([0.0, 0.8])\n",
    "\n",
    "handles = []\n",
    "\n",
    "for alpha, ndcg_1, ndcg_2 in zip(alpha_values, ndcg_arr_1, ndcg_arr_2):\n",
    "    h = plot_point(ndcg_1, ndcg_2, f\"$\\\\alpha={alpha:.2f}$\", \"s\", 0.01, 0.01)\n",
    "handles.append(h)\n",
    "\n",
    "ax.set_xlabel(\"NDCG_1\");\n",
    "ax.set_ylabel(\"NDCG_2\");"
   ]
  }
 ],
 "metadata": {
  "kernelspec": {
   "display_name": "Python 3",
   "language": "python",
   "name": "python3"
  },
  "language_info": {
   "codemirror_mode": {
    "name": "ipython",
    "version": 3
   },
   "file_extension": ".py",
   "mimetype": "text/x-python",
   "name": "python",
   "nbconvert_exporter": "python",
   "pygments_lexer": "ipython3",
   "version": "3.6.4"
  }
 },
 "nbformat": 4,
 "nbformat_minor": 2
}
